{
 "cells": [
  {
   "cell_type": "code",
   "execution_count": 3,
   "metadata": {},
   "outputs": [
    {
     "data": {
      "image/png": "[encoded data removed]",
      "text/plain": [
       "<Figure size 648x504 with 2 Axes>"
      ]
     },
     "metadata": {
      "needs_background": "light"
     },
     "output_type": "display_data"
    },
    {
     "data": {
      "text/plain": [
       "array([[  2.,   2., 143.],\n",
       "       [  2.,   4., 164.],\n",
       "       [  2.,   6., 187.],\n",
       "       [  2.,   8., 204.],\n",
       "       [  2.,  10., 212.],\n",
       "       [  4.,   2., 205.],\n",
       "       [  4.,   4., 306.],\n",
       "       [  4.,   6., 366.],\n",
       "       [  4.,   8., 385.],\n",
       "       [  4.,  10., 421.],\n",
       "       [  6.,   2., 220.],\n",
       "       [  6.,   4., 315.],\n",
       "       [  6.,   6., 400.],\n",
       "       [  6.,   8., 452.],\n",
       "       [  6.,  10., 479.],\n",
       "       [  8.,   2., 266.],\n",
       "       [  8.,   4., 420.],\n",
       "       [  8.,   6., 539.],\n",
       "       [  8.,   8., 604.],\n",
       "       [  8.,  10., 660.],\n",
       "       [ 10.,   2., 325.],\n",
       "       [ 10.,   4., 545.],\n",
       "       [ 10.,   6., 619.],\n",
       "       [ 10.,   8., 709.],\n",
       "       [ 10.,  10., 746.],\n",
       "       [ 12.,   2., 417.],\n",
       "       [ 12.,   4., 622.],\n",
       "       [ 12.,   6., 707.],\n",
       "       [ 12.,   8., 774.],\n",
       "       [ 12.,  10., 815.],\n",
       "       [ 14.,   2., 455.],\n",
       "       [ 14.,   4., 661.],\n",
       "       [ 14.,   6., 769.],\n",
       "       [ 14.,   8., 822.],\n",
       "       [ 14.,  10., 878.],\n",
       "       [ 16.,   2., 554.],\n",
       "       [ 16.,   4., 722.],\n",
       "       [ 16.,   6., 824.],\n",
       "       [ 16.,   8., 875.],\n",
       "       [ 16.,  10., 916.],\n",
       "       [ 18.,   2., 594.],\n",
       "       [ 18.,   4., 759.],\n",
       "       [ 18.,   6., 864.],\n",
       "       [ 18.,   8., 908.],\n",
       "       [ 18.,  10., 941.],\n",
       "       [ 20.,   2., 663.],\n",
       "       [ 20.,   4., 822.],\n",
       "       [ 20.,   6., 871.],\n",
       "       [ 20.,   8., 913.],\n",
       "       [ 20.,  10., 954.],\n",
       "       [ 22.,   2., 708.],\n",
       "       [ 22.,   4., 833.],\n",
       "       [ 22.,   6., 901.],\n",
       "       [ 22.,   8., 936.],\n",
       "       [ 22.,  10., 974.],\n",
       "       [ 24.,   2., 759.],\n",
       "       [ 24.,   4., 865.],\n",
       "       [ 24.,   6., 922.],\n",
       "       [ 24.,   8., 965.],\n",
       "       [ 24.,  10.,   0.],\n",
       "       [ 26.,   2., 767.],\n",
       "       [ 26.,   4., 895.],\n",
       "       [ 26.,   6., 946.],\n",
       "       [ 26.,   8.,   0.],\n",
       "       [ 26.,  10.,   0.],\n",
       "       [ 28.,   2., 815.],\n",
       "       [ 28.,   4., 903.],\n",
       "       [ 28.,   6., 935.],\n",
       "       [ 28.,   8., 962.],\n",
       "       [ 28.,  10.,   0.],\n",
       "       [ 30.,   2., 827.],\n",
       "       [ 30.,   4., 919.],\n",
       "       [ 30.,   6., 947.],\n",
       "       [ 30.,   8., 961.],\n",
       "       [ 30.,  10.,   0.]])"
      ]
     },
     "execution_count": 3,
     "metadata": {},
     "output_type": "execute_result"
    }
   ],
   "source": [
    "import numpy as np\n",
    "import seaborn as sns\n",
    "import matplotlib.pylab as plt\n",
    "\n",
    "data = np.loadtxt(\"results.txt\", skiprows = 1)\n",
    "#sort the data:\n",
    "data[data[:,1].argsort()]\n",
    "\n",
    "\n",
    "accuracy = data[:,2].reshape(15,5)\n",
    "\n",
    "figure = plt.figure(figsize=(9,7), )\n",
    "ax = sns.heatmap(accuracy/1000,linewidth=0.5, cmap=\"viridis\", cbar_kws={'label': 'Accuracy'},\n",
    "                 xticklabels = np.unique(data[:,1]).astype(int), yticklabels = np.unique(data[:,0]).astype(int))\n",
    "ax.invert_yaxis()\n",
    "\n",
    "plt.xlabel('Number of Clusters')\n",
    "plt.ylabel('Number of Principal Components')\n",
    "\n",
    "plt.show()\n",
    "figure.savefig(\"heatmap.pdf\",format='pdf')\n",
    "\n",
    "accuracy.max()\n",
    "data"
   ]
  }
 ],
 "metadata": {
  "kernelspec": {
   "display_name": "Python 3",
   "language": "python",
   "name": "python3"
  },
  "language_info": {
   "codemirror_mode": {
    "name": "ipython",
    "version": 3
   },
   "file_extension": ".py",
   "mimetype": "text/x-python",
   "name": "python",
   "nbconvert_exporter": "python",
   "pygments_lexer": "ipython3",
   "version": "3.7.3"
  }
 },
 "nbformat": 4,
 "nbformat_minor": 2
}
